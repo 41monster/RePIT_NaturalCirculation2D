{
 "cells": [
  {
   "cell_type": "code",
   "execution_count": 49,
   "metadata": {},
   "outputs": [],
   "source": [
    "from plot_utils import visualize_output\n",
    "from config import BaseConfig\n",
    "import numpy as np\n",
    "from dataset import FVMNDataset\n",
    "from ResidualNaturalConvection import residual_mass"
   ]
  },
  {
   "cell_type": "markdown",
   "metadata": {},
   "source": [
    "# To visualize"
   ]
  },
  {
   "cell_type": "code",
   "execution_count": 70,
   "metadata": {},
   "outputs": [
    {
     "name": "stderr",
     "output_type": "stream",
     "text": [
      "/data/shilaj_data/RePIT_NaturalCirculation2D/plot_utils.py:70: UserWarning: Data dimension mismatch. Expected 2 but got 3. PLEASE CHECK!\n",
      "  if shape_of_variable[-1] != data_dim: warnings.warn(f\"Data dimension mismatch. Expected {data_dim} but got {data_dict[var].shape[-1]}. PLEASE CHECK!\")\n"
     ]
    },
    {
     "data": {
      "text/plain": [
       "True"
      ]
     },
     "execution_count": 70,
     "metadata": {},
     "output_type": "execute_result"
    }
   ],
   "source": [
    "base_config = BaseConfig()\n",
    "visualize_output(base_config,\n",
    "                 timestamp=10.04,\n",
    "                 is_ground_truth=True)"
   ]
  },
  {
   "cell_type": "code",
   "execution_count": 10,
   "metadata": {},
   "outputs": [],
   "source": [
    "u_pred = np.load(\"./Assets/natural_convection/U_10.04_predicted.npy\")\n",
    "t_pred = np.load(\"./Assets/natural_convection/T_10.04_predicted.npy\")"
   ]
  },
  {
   "cell_type": "code",
   "execution_count": 8,
   "metadata": {},
   "outputs": [],
   "source": [
    "ux_pred = u_pred[:, 0]\n",
    "uy_pred = u_pred[:, 1]"
   ]
  },
  {
   "cell_type": "markdown",
   "metadata": {},
   "source": [
    "# To check either the difference calculation from the code is similar to what we want to achieve:"
   ]
  },
  {
   "cell_type": "code",
   "execution_count": 42,
   "metadata": {},
   "outputs": [],
   "source": [
    "u_true = np.load(\"./Assets/natural_convection/U_10.0.npy\")\n",
    "t_true = np.load(\"./Assets/natural_convection/T_10.0.npy\")\n",
    "u_true_next = np.load(\"./Assets/natural_convection/U_10.01.npy\")\n",
    "t_true_next = np.load(\"./Assets/natural_convection/T_10.01.npy\")\n",
    "\n",
    "u_diff = u_true_next - u_true\n",
    "t_diff = t_true_next - t_true\n",
    "\n",
    "first_label_true = np.stack([u_diff[:,0],u_diff[:,1], t_diff], axis=1)\n",
    "add_features = []\n",
    "for i in range(first_label_true.shape[-1]):\n",
    "    add_features.append(FVMNDataset.add_feature(first_label_true[:,i].reshape(200,200, order=\"C\"))[:,0])"
   ]
  },
  {
   "cell_type": "code",
   "execution_count": 43,
   "metadata": {},
   "outputs": [],
   "source": [
    "first_label_true = np.stack(add_features, axis=1)"
   ]
  },
  {
   "cell_type": "code",
   "execution_count": 44,
   "metadata": {},
   "outputs": [
    {
     "data": {
      "text/plain": [
       "(39204, 3)"
      ]
     },
     "execution_count": 44,
     "metadata": {},
     "output_type": "execute_result"
    }
   ],
   "source": [
    "first_label_true.shape"
   ]
  },
  {
   "cell_type": "code",
   "execution_count": 12,
   "metadata": {},
   "outputs": [],
   "source": [
    "first_label = np.load(\"first_label.npy\")"
   ]
  },
  {
   "cell_type": "code",
   "execution_count": 48,
   "metadata": {},
   "outputs": [
    {
     "data": {
      "text/plain": [
       "np.True_"
      ]
     },
     "execution_count": 48,
     "metadata": {},
     "output_type": "execute_result"
    }
   ],
   "source": [
    "first_label.all() == first_label_true.all()"
   ]
  },
  {
   "cell_type": "markdown",
   "metadata": {},
   "source": [
    "# Check the residual mass"
   ]
  },
  {
   "cell_type": "code",
   "execution_count": 57,
   "metadata": {},
   "outputs": [],
   "source": [
    "u_true = np.load(\"./Assets/natural_convection/U_10.04.npy\")\n",
    "u_pred = np.load(\"./Assets/natural_convection/U_10.04_predicted.npy\")\n",
    "ux_true = u_true[:, 0].reshape(200, 200, order=\"C\")\n",
    "uy_true = u_true[:, 1].reshape(200, 200, order=\"C\")\n",
    "ux_pred = u_pred[:, 0].reshape(200, 200, order=\"C\")\n",
    "uy_pred = u_pred[:, 1].reshape(200, 200, order=\"C\")"
   ]
  },
  {
   "cell_type": "code",
   "execution_count": 61,
   "metadata": {},
   "outputs": [
    {
     "data": {
      "text/plain": [
       "np.float64(166461.72197983836)"
      ]
     },
     "execution_count": 61,
     "metadata": {},
     "output_type": "execute_result"
    }
   ],
   "source": [
    "true_residual = residual_mass(ux_true, uy_true)\n",
    "true_residual"
   ]
  },
  {
   "cell_type": "code",
   "execution_count": 54,
   "metadata": {},
   "outputs": [
    {
     "data": {
      "text/plain": [
       "np.float64(0.28367584116975175)"
      ]
     },
     "execution_count": 54,
     "metadata": {},
     "output_type": "execute_result"
    }
   ],
   "source": [
    "pred_res"
   ]
  }
 ],
 "metadata": {
  "kernelspec": {
   "display_name": "fvmn_env",
   "language": "python",
   "name": "python3"
  },
  "language_info": {
   "codemirror_mode": {
    "name": "ipython",
    "version": 3
   },
   "file_extension": ".py",
   "mimetype": "text/x-python",
   "name": "python",
   "nbconvert_exporter": "python",
   "pygments_lexer": "ipython3",
   "version": "3.10.15"
  }
 },
 "nbformat": 4,
 "nbformat_minor": 2
}
